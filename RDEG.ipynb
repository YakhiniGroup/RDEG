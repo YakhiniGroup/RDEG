{
 "cells": [
  {
   "cell_type": "code",
   "execution_count": 20,
   "metadata": {},
   "outputs": [
    {
     "name": "stdout",
     "output_type": "stream",
     "text": [
      "The autoreload extension is already loaded. To reload it, use:\n",
      "  %reload_ext autoreload\n"
     ]
    }
   ],
   "source": [
    "import os\n",
    "import glob\n",
    "import pandas as pd\n",
    "\n",
    "from utils import (\n",
    "    errors_idxs,\n",
    "    top_k,\n",
    "    calc_differentially_expressed_genes,\n",
    "    calc_res\n",
    ")\n",
    "\n",
    "%load_ext autoreload\n",
    "%autoreload 2\n",
    "\n",
    "import warnings\n",
    "warnings.filterwarnings(\"ignore\")"
   ]
  },
  {
   "cell_type": "markdown",
   "metadata": {},
   "source": [
    "## Read data"
   ]
  },
  {
   "cell_type": "markdown",
   "metadata": {},
   "source": [
    "##### cohort data\n",
    "All data files should have binary group column (`True` for the positive class and `False` for the negative)"
   ]
  },
  {
   "cell_type": "code",
   "execution_count": 21,
   "metadata": {},
   "outputs": [],
   "source": [
    "path_to_cohort_data = 'data/cohort_data.csv'\n",
    "index_col = 'Unnamed: 0'\n",
    "data = pd.read_csv(path_to_cohort_data, index_col=index_col)"
   ]
  },
  {
   "cell_type": "markdown",
   "metadata": {},
   "source": [
    "##### read gt data\n",
    "\n",
    "All gt datasets should be inside the data folder in this format:\n",
    "\n",
    "gt_0.csv <br>\n",
    "gt_1.csv <br>\n",
    ". <br>\n",
    ". <br>\n",
    "."
   ]
  },
  {
   "cell_type": "code",
   "execution_count": 22,
   "metadata": {},
   "outputs": [],
   "source": [
    "files = glob.glob('data/gt*.csv')\n",
    "dfs = {}\n",
    "cols = {}\n",
    "index_col = 'Unnamed: 0'\n",
    "for f in files:\n",
    "    number = os.path.splitext(f)[0].split('_')[1]\n",
    "    dfs[int(number)] = pd.read_csv(f, index_col=index_col)"
   ]
  },
  {
   "cell_type": "markdown",
   "metadata": {},
   "source": [
    "### Calculations"
   ]
  },
  {
   "cell_type": "markdown",
   "metadata": {},
   "source": [
    "The function `calc_differentially_expressed_genes` returns a report with the following fileds:\n",
    "1. 'n_genes': number of differentially expressed genes genes in each label swap\n",
    "1. 'pvalue_original_sorted': WRS p-value for each gene sorted in increasing order\n",
    "1. 'sorted_genes': the complete gene list sorted according to thier p-values ('pvalue_original_sorted')\n",
    "1. 'original_list': differentially expressed genes as calculated without label swaps\n",
    "1. 'gene_list': the RDEG set"
   ]
  },
  {
   "cell_type": "markdown",
   "metadata": {},
   "source": [
    "##### cohort data calculations"
   ]
  },
  {
   "cell_type": "code",
   "execution_count": 25,
   "metadata": {},
   "outputs": [
    {
     "name": "stderr",
     "output_type": "stream",
     "text": [
      "100%|██████████| 104/104 [00:00<00:00, 619.10it/s]\n"
     ]
    }
   ],
   "source": [
    "cohort_report = calc_differentially_expressed_genes(data, 0.001, 'group', n_changes=1, alternative='two-sided')"
   ]
  },
  {
   "cell_type": "markdown",
   "metadata": {},
   "source": [
    "##### gt calculations"
   ]
  },
  {
   "cell_type": "code",
   "execution_count": 26,
   "metadata": {},
   "outputs": [
    {
     "name": "stderr",
     "output_type": "stream",
     "text": [
      "100%|██████████| 277/277 [00:00<00:00, 664.19it/s]\n",
      "100%|██████████| 289/289 [00:00<00:00, 664.26it/s]\n",
      "100%|██████████| 856/856 [00:00<00:00, 1013.26it/s]\n",
      "100%|██████████| 200/200 [00:00<00:00, 835.97it/s]\n",
      "100%|██████████| 106/106 [00:00<00:00, 690.66it/s]\n",
      "100%|██████████| 159/159 [00:00<00:00, 937.35it/s]\n",
      "100%|██████████| 251/251 [00:00<00:00, 710.50it/s]\n",
      "100%|██████████| 981/981 [00:00<00:00, 1151.12it/s]\n",
      "100%|██████████| 344/344 [00:00<00:00, 946.34it/s]\n",
      "100%|██████████| 1904/1904 [00:01<00:00, 1347.44it/s]\n",
      "100%|██████████| 327/327 [00:00<00:00, 937.03it/s]\n",
      "100%|██████████| 93/93 [00:00<00:00, 800.38it/s]\n"
     ]
    }
   ],
   "source": [
    "GT_set = {}\n",
    "for gt_number in dfs:\n",
    "    report = calc_differentially_expressed_genes(dfs[gt_number], 0.001, 'group', n_changes=1, \n",
    "                                                 alternative='two-sided')\n",
    "    if len(GT_set):\n",
    "        GT_set = GT_set.intersection(report['original_list'])\n",
    "    else:\n",
    "        GT_set = set(report['original_list'])"
   ]
  },
  {
   "cell_type": "markdown",
   "metadata": {},
   "source": [
    "##### calc results"
   ]
  },
  {
   "cell_type": "code",
   "execution_count": 27,
   "metadata": {},
   "outputs": [
    {
     "name": "stdout",
     "output_type": "stream",
     "text": [
      "Original - GT FDR intersection\n",
      "Predicted Positive: 316\n",
      "TP: 94 FP: 222 TN: 9178 FN: 38\n",
      "Precision: 0.297\n",
      "Recall: 0.712\n",
      "----------\n",
      "RDEG - GT FDR intersection\n",
      "Predicted Positive: 138\n",
      "TP: 71 FP: 67 TN: 9333 FN: 61\n",
      "Precision: 0.514\n",
      "Recall: 0.538\n",
      "====================\n"
     ]
    }
   ],
   "source": [
    "TP = len(GT_set.intersection(set(cohort_report['original_list'])))\n",
    "calc_res('Original - GT FDR intersection', len(cohort_report['sorted_genes']),\n",
    "         P=len(GT_set), predicted_P=len(set(cohort_report['original_list'])), TP=TP)\n",
    "print('----------')\n",
    "TP = len(GT_set.intersection(set(cohort_report['gene_list'])))\n",
    "calc_res('RDEG - GT FDR intersection', len(cohort_report['sorted_genes']),\n",
    "         P=len(GT_set), predicted_P=len(set(cohort_report['gene_list'])), TP=TP)\n",
    "print('='*20)"
   ]
  },
  {
   "cell_type": "code",
   "execution_count": null,
   "metadata": {},
   "outputs": [],
   "source": []
  }
 ],
 "metadata": {
  "kernelspec": {
   "display_name": "Python 3",
   "language": "python",
   "name": "python3"
  },
  "language_info": {
   "codemirror_mode": {
    "name": "ipython",
    "version": 3
   },
   "file_extension": ".py",
   "mimetype": "text/x-python",
   "name": "python",
   "nbconvert_exporter": "python",
   "pygments_lexer": "ipython3",
   "version": "3.7.7"
  }
 },
 "nbformat": 4,
 "nbformat_minor": 5
}
